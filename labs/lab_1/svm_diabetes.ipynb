{
 "cells": [
  {
   "cell_type": "markdown",
   "metadata": {},
   "source": [
    "# TP: Application des SVM pour la prédiction du diabète\n",
    "\n",
    "Ce TP vise à appliquer les Support Vector Machines (SVM) sur le jeu de données diabetes de scikit-learn pour prédire la progression de la maladie."
   ]
  },
  {
   "cell_type": "code",
   "execution_count": null,
   "metadata": {},
   "outputs": [],
   "source": [
    "# Importation des bibliothèques nécessaires\n",
    "import numpy as np\n",
    "import matplotlib.pyplot as plt\n",
    "from sklearn.datasets import load_diabetes\n",
    "from sklearn.model_selection import train_test_split\n",
    "from sklearn.preprocessing import StandardScaler\n",
    "from sklearn.svm import SVR\n",
    "from sklearn.metrics import mean_squared_error, r2_score"
   ]
  },
  {
   "cell_type": "code",
   "execution_count": null,
   "metadata": {},
   "outputs": [],
   "source": [
    "# Chargement et préparation des données\n",
    "diabetes = load_diabetes()\n",
    "X = diabetes.data\n",
    "y = diabetes.target\n",
    "\n",
    "# Division en ensembles d'entraînement et de test\n",
    "X_train, X_test, y_train, y_test = train_test_split(X, y, test_size=0.2, random_state=42)\n",
    "\n",
    "# Standardisation des données\n",
    "scaler = StandardScaler()\n",
    "X_train_scaled = scaler.fit_transform(X_train)\n",
    "X_test_scaled = scaler.transform(X_test)\n",
    "\n",
    "print(f\"Dimensions des données d'entraînement: {X_train.shape}\")\n",
    "print(f\"Dimensions des données de test: {X_test.shape}\")"
   ]
  },
  {
   "cell_type": "code",
   "execution_count": null,
   "metadata": {},
   "outputs": [],
   "source": [
    "# Entraînement du modèle SVM avec différents noyaux\n",
    "kernels = ['linear', 'poly', 'rbf']\n",
    "svr_models = {}\n",
    "results = {}\n",
    "\n",
    "for kernel in kernels:\n",
    "    # Création et entraînement du modèle\n",
    "    svr = SVR(kernel=kernel)\n",
    "    svr.fit(X_train_scaled, y_train)\n",
    "    svr_models[kernel] = svr\n",
    "    \n",
    "    # Prédictions\n",
    "    y_pred = svr.predict(X_test_scaled)\n",
    "    \n",
    "    # Évaluation\n",
    "    mse = mean_squared_error(y_test, y_pred)\n",
    "    r2 = r2_score(y_test, y_pred)\n",
    "    results[kernel] = {'MSE': mse, 'R²': r2}\n",
    "    \n",
    "    print(f\"Noyau {kernel}:\")\n",
    "    print(f\"  MSE: {mse:.2f}\")\n",
    "    print(f\"  R²: {r2:.4f}\\n\")"
   ]
  },
  {
   "cell_type": "code",
   "execution_count": null,
   "metadata": {},
   "outputs": [],
   "source": [
    "# Visualisation des résultats\n",
    "best_kernel = min(results, key=lambda k: results[k]['MSE'])\n",
    "best_model = svr_models[best_kernel]\n",
    "y_pred_best = best_model.predict(X_test_scaled)\n",
    "\n",
    "plt.figure(figsize=(10, 6))\n",
    "plt.scatter(y_test, y_pred_best, alpha=0.7)\n",
    "plt.plot([y_test.min(), y_test.max()], [y_test.min(), y_test.max()], 'k--', lw=2)\n",
    "plt.xlabel('Valeurs réelles')\n",
    "plt.ylabel('Prédictions')\n",
    "plt.title(f'SVM avec noyau {best_kernel} - Valeurs réelles vs Prédictions')\n",
    "plt.grid(True)\n",
    "plt.show()\n",
    "\n",
    "print(f\"Le meilleur modèle utilise le noyau {best_kernel} avec un MSE de {results[best_kernel]['MSE']:.2f}\")"
   ]
  }
 ],
 "metadata": {
  "kernelspec": {
   "display_name": ".venv",
   "language": "python",
   "name": "python3"
  },
  "language_info": {
   "codemirror_mode": {
    "name": "ipython",
    "version": 3
   },
   "file_extension": ".py",
   "mimetype": "text/x-python",
   "name": "python",
   "nbconvert_exporter": "python",
   "pygments_lexer": "ipython3",
   "version": "3.12.3"
  }
 },
 "nbformat": 4,
 "nbformat_minor": 4
}
