{
 "cells": [
  {
   "cell_type": "markdown",
   "metadata": {},
   "source": [
    "# Using decision Trees to predict delimited clusters of a class in a dataset\n",
    "\n",
    "### Exercice 1\n",
    "\n",
    "In this exercise, we will use the decision tree algorithm to predict the clusters of a dataset. The dataset is composed of 2 features and 2 classes. One classe is delimited by a two squares. The other class represents the rest of the plane. The goal is to use the decision tree algorithm to predict the clusters of the dataset.\n",
    "\n",
    "First we define the model: \\\n",
    "for each point i, $y_i = min(|x_i - \\alpha_1|_{\\infty}, |x_i - \\alpha_2|_{\\infty}) - 1 + \\epsilon_i $    with $\\epsilon_i \\sim \\mathcal{N}(0, 0.01)$ and $\\alpha_1 = (0, 2)$ and $\\alpha_2 = (0, -2)$. \\\n",
    "- If $y_i > 0$ then the point belongs to the first class.\n",
    "- If $y_i \\leq 0$ then the point belongs to the second class.\n",
    "\n",
    "\n",
    "**Questions**:\n",
    "1. Generate a dataset of 10000 points using the model defined above and assuming that $x_i$ is a gaussian vector of mean 0 and covariance matrix $\\begin{pmatrix} 1 & 0 \\\\ 0 & 1 \\end{pmatrix}$. \n",
    "2. Plot the dataset.\n",
    "3. Train the decision tree on the dataset.\n",
    "4. Plot the decision boundary of the decision tree.\n",
    "5. Using a plane grid, plot the decision of the decision tree on the plane. Compare the decision of the decision tree with the true clusters.\n",
    "6. Make a conclusion.\n",
    "\n"
   ]
  },
  {
   "cell_type": "markdown",
   "metadata": {},
   "source": [
    "# Random Forests to predict delimited clusters of a class in a dataset\n",
    "\n",
    "### Exercice 2\n",
    "\n",
    "To improve the prediction of the clusters, we will use the random forest algorithm. The goal is to avoid overfitting and to improve the generalization of the model.\n",
    "\n",
    "**Questions**:\n",
    "1. Train a random forest (with 200 trees) on the dataset.\n",
    "2. Plot the decision boundary of the random forest.\n",
    "3. Using a plane grid, plot the decision of the random forest on the plane. Compare the decision of the random forest with the true clusters.\n",
    "4. Make a conclusion."
   ]
  },
  {
   "cell_type": "markdown",
   "metadata": {},
   "source": [
    "# Use boosting to predict delimited clusters of a class in a dataset\n",
    "\n",
    "### Exercice 3 \n",
    "\n",
    "To improve the prediction of the clusters, we will use the boosting algorithm. The goal is to avoid overfitting and to improve the generalization of the model.\n",
    "\n",
    "**Questions**:\n",
    "1. Train a boosting (with 200 trees) on the dataset.\n",
    "2. Plot the decision boundary of the boosting.\n",
    "3. Using a plane grid, plot the decision of the boosting on the plane. Compare the decision of the boosting with the true clusters.\n",
    "4. Make a conclusion.\n",
    "\n",
    "\n"
   ]
  }
 ],
 "metadata": {
  "kernelspec": {
   "display_name": ".venv",
   "language": "python",
   "name": "python3"
  },
  "language_info": {
   "codemirror_mode": {
    "name": "ipython",
    "version": 3
   },
   "file_extension": ".py",
   "mimetype": "text/x-python",
   "name": "python",
   "nbconvert_exporter": "python",
   "pygments_lexer": "ipython3",
   "version": "3.12.3"
  }
 },
 "nbformat": 4,
 "nbformat_minor": 2
}
